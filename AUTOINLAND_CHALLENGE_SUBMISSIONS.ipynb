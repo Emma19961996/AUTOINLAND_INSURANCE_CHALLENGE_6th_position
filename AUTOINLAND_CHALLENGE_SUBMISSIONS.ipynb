{
 "cells": [
  {
   "cell_type": "code",
   "execution_count": 1,
   "metadata": {
    "colab": {
     "base_uri": "https://localhost:8080/"
    },
    "id": "iiWAHZZ08nFp",
    "outputId": "32b20596-17d3-4f19-9df7-13cca3a86427"
   },
   "outputs": [
    {
     "name": "stdout",
     "output_type": "stream",
     "text": [
      "Go to this URL in a browser: https://accounts.google.com/o/oauth2/auth?client_id=947318989803-6bn6qk8qdgf4n4g3pfee6491hc0brc4i.apps.googleusercontent.com&redirect_uri=urn%3aietf%3awg%3aoauth%3a2.0%3aoob&scope=email%20https%3a%2f%2fwww.googleapis.com%2fauth%2fdocs.test%20https%3a%2f%2fwww.googleapis.com%2fauth%2fdrive%20https%3a%2f%2fwww.googleapis.com%2fauth%2fdrive.photos.readonly%20https%3a%2f%2fwww.googleapis.com%2fauth%2fpeopleapi.readonly%20https%3a%2f%2fwww.googleapis.com%2fauth%2fdrive.activity.readonly%20https%3a%2f%2fwww.googleapis.com%2fauth%2fexperimentsandconfigs%20https%3a%2f%2fwww.googleapis.com%2fauth%2fphotos.native&response_type=code\n",
      "\n",
      "Enter your authorization code:\n",
      "4/1AX4XfWiFBvJHQUtfA4FxpKSABIpVmuXUdV_Khmu_4zaMe6lz4DY9lQBuYcM\n",
      "Mounted at /content/gdrive\n"
     ]
    }
   ],
   "source": [
    "from google.colab import drive\n",
    "drive.mount('/content/gdrive')"
   ]
  },
  {
   "cell_type": "code",
   "execution_count": 2,
   "metadata": {
    "id": "DnUVqcA59ALE"
   },
   "outputs": [],
   "source": [
    "#importing some important libraries\n",
    "import pandas as pd\n",
    "import numpy as np\n",
    "import datetime as dt\n",
    "from tqdm.notebook import tqdm_notebook\n",
    "import seaborn as sns\n",
    "import matplotlib.pyplot as plt\n",
    "from sklearn.metrics import f1_score\n",
    "from lightgbm import LGBMClassifier\n",
    "from sklearn.model_selection import train_test_split\n",
    "import warnings\n",
    "warnings.filterwarnings('ignore')\n",
    "from sklearn.model_selection import StratifiedKFold\n",
    "from sklearn import preprocessing\n",
    "from sklearn.metrics import auc, classification_report, roc_auc_score\n",
    "from sklearn.model_selection import StratifiedKFold\n",
    "from sklearn.ensemble import VotingClassifier\n",
    "from sklearn import model_selection\n",
    "from sklearn.ensemble import BaggingClassifier\n",
    "from sklearn.ensemble import RandomForestClassifier\n",
    "from sklearn.tree import DecisionTreeClassifier\n",
    "from sklearn.svm import SVC"
   ]
  },
  {
   "cell_type": "code",
   "execution_count": 3,
   "metadata": {
    "id": "SYbm9tMaGxe7"
   },
   "outputs": [],
   "source": [
    "import random\n",
    "\n",
    "def seed_everything(seed):\n",
    "    random.seed(seed)\n",
    "    np.random.seed(seed)\n",
    "SEED = 42    \n",
    "seed_everything(SEED)"
   ]
  },
  {
   "cell_type": "code",
   "execution_count": 4,
   "metadata": {
    "id": "sUO7NlhT9BDn"
   },
   "outputs": [],
   "source": [
    "#Load files into a pandas dataframe\n",
    "train = pd.read_csv('/content/gdrive/My Drive/INSURANCE_DATA/Train_5.csv')\n",
    "test = pd.read_csv('/content/gdrive/My Drive/INSURANCE_DATA/Test_5.csv')\n",
    "ss = pd.read_csv('/content/gdrive/My Drive/INSURANCE_DATA/SampleSubmission_5.csv')"
   ]
  },
  {
   "cell_type": "code",
   "execution_count": 5,
   "metadata": {
    "colab": {
     "base_uri": "https://localhost:8080/",
     "height": 323
    },
    "id": "Q3YceVZv9N9u",
    "outputId": "19306193-aa3d-4f72-e5a7-c95b32610091"
   },
   "outputs": [
    {
     "data": {
      "text/html": [
       "<div>\n",
       "<style scoped>\n",
       "    .dataframe tbody tr th:only-of-type {\n",
       "        vertical-align: middle;\n",
       "    }\n",
       "\n",
       "    .dataframe tbody tr th {\n",
       "        vertical-align: top;\n",
       "    }\n",
       "\n",
       "    .dataframe thead th {\n",
       "        text-align: right;\n",
       "    }\n",
       "</style>\n",
       "<table border=\"1\" class=\"dataframe\">\n",
       "  <thead>\n",
       "    <tr style=\"text-align: right;\">\n",
       "      <th></th>\n",
       "      <th>ID</th>\n",
       "      <th>Policy Start Date</th>\n",
       "      <th>Policy End Date</th>\n",
       "      <th>Gender</th>\n",
       "      <th>Age</th>\n",
       "      <th>First Transaction Date</th>\n",
       "      <th>No_Pol</th>\n",
       "      <th>Car_Category</th>\n",
       "      <th>Subject_Car_Colour</th>\n",
       "      <th>Subject_Car_Make</th>\n",
       "      <th>LGA_Name</th>\n",
       "      <th>State</th>\n",
       "      <th>ProductName</th>\n",
       "      <th>target</th>\n",
       "    </tr>\n",
       "  </thead>\n",
       "  <tbody>\n",
       "    <tr>\n",
       "      <th>0</th>\n",
       "      <td>ID_0040R73</td>\n",
       "      <td>2010-05-14</td>\n",
       "      <td>2011-05-13</td>\n",
       "      <td>Male</td>\n",
       "      <td>30</td>\n",
       "      <td>2010-05-14</td>\n",
       "      <td>1</td>\n",
       "      <td>Saloon</td>\n",
       "      <td>Black</td>\n",
       "      <td>TOYOTA</td>\n",
       "      <td>NaN</td>\n",
       "      <td>NaN</td>\n",
       "      <td>Car Classic</td>\n",
       "      <td>0</td>\n",
       "    </tr>\n",
       "    <tr>\n",
       "      <th>1</th>\n",
       "      <td>ID_0046BNK</td>\n",
       "      <td>2010-11-29</td>\n",
       "      <td>2011-11-28</td>\n",
       "      <td>Female</td>\n",
       "      <td>79</td>\n",
       "      <td>2010-11-29</td>\n",
       "      <td>1</td>\n",
       "      <td>JEEP</td>\n",
       "      <td>Grey</td>\n",
       "      <td>TOYOTA</td>\n",
       "      <td>NaN</td>\n",
       "      <td>NaN</td>\n",
       "      <td>Car Classic</td>\n",
       "      <td>1</td>\n",
       "    </tr>\n",
       "    <tr>\n",
       "      <th>2</th>\n",
       "      <td>ID_005QMC3</td>\n",
       "      <td>2010-03-21</td>\n",
       "      <td>2011-03-20</td>\n",
       "      <td>Male</td>\n",
       "      <td>43</td>\n",
       "      <td>2010-03-21</td>\n",
       "      <td>1</td>\n",
       "      <td>Saloon</td>\n",
       "      <td>Red</td>\n",
       "      <td>TOYOTA</td>\n",
       "      <td>NaN</td>\n",
       "      <td>NaN</td>\n",
       "      <td>Car Classic</td>\n",
       "      <td>0</td>\n",
       "    </tr>\n",
       "    <tr>\n",
       "      <th>3</th>\n",
       "      <td>ID_0079OHW</td>\n",
       "      <td>2010-08-21</td>\n",
       "      <td>2011-08-20</td>\n",
       "      <td>Male</td>\n",
       "      <td>2</td>\n",
       "      <td>2010-08-21</td>\n",
       "      <td>1</td>\n",
       "      <td>NaN</td>\n",
       "      <td>NaN</td>\n",
       "      <td>NaN</td>\n",
       "      <td>NaN</td>\n",
       "      <td>NaN</td>\n",
       "      <td>CarSafe</td>\n",
       "      <td>0</td>\n",
       "    </tr>\n",
       "    <tr>\n",
       "      <th>4</th>\n",
       "      <td>ID_00BRP63</td>\n",
       "      <td>2010-08-29</td>\n",
       "      <td>2010-12-31</td>\n",
       "      <td>Entity</td>\n",
       "      <td>20</td>\n",
       "      <td>2010-08-29</td>\n",
       "      <td>3</td>\n",
       "      <td>NaN</td>\n",
       "      <td>NaN</td>\n",
       "      <td>NaN</td>\n",
       "      <td>Lagos</td>\n",
       "      <td>Lagos</td>\n",
       "      <td>Muuve</td>\n",
       "      <td>1</td>\n",
       "    </tr>\n",
       "  </tbody>\n",
       "</table>\n",
       "</div>"
      ],
      "text/plain": [
       "           ID Policy Start Date Policy End Date  ...  State  ProductName target\n",
       "0  ID_0040R73        2010-05-14      2011-05-13  ...    NaN  Car Classic      0\n",
       "1  ID_0046BNK        2010-11-29      2011-11-28  ...    NaN  Car Classic      1\n",
       "2  ID_005QMC3        2010-03-21      2011-03-20  ...    NaN  Car Classic      0\n",
       "3  ID_0079OHW        2010-08-21      2011-08-20  ...    NaN      CarSafe      0\n",
       "4  ID_00BRP63        2010-08-29      2010-12-31  ...  Lagos        Muuve      1\n",
       "\n",
       "[5 rows x 14 columns]"
      ]
     },
     "execution_count": 5,
     "metadata": {
      "tags": []
     },
     "output_type": "execute_result"
    }
   ],
   "source": [
    "#view the first 5 rows of the train dataset\n",
    "train.head()"
   ]
  },
  {
   "cell_type": "code",
   "execution_count": 6,
   "metadata": {
    "colab": {
     "base_uri": "https://localhost:8080/",
     "height": 323
    },
    "id": "JKt0RjIu9NwT",
    "outputId": "535f162f-e251-4473-aa73-335b0d35c83f"
   },
   "outputs": [
    {
     "data": {
      "text/html": [
       "<div>\n",
       "<style scoped>\n",
       "    .dataframe tbody tr th:only-of-type {\n",
       "        vertical-align: middle;\n",
       "    }\n",
       "\n",
       "    .dataframe tbody tr th {\n",
       "        vertical-align: top;\n",
       "    }\n",
       "\n",
       "    .dataframe thead th {\n",
       "        text-align: right;\n",
       "    }\n",
       "</style>\n",
       "<table border=\"1\" class=\"dataframe\">\n",
       "  <thead>\n",
       "    <tr style=\"text-align: right;\">\n",
       "      <th></th>\n",
       "      <th>ID</th>\n",
       "      <th>Policy Start Date</th>\n",
       "      <th>Policy End Date</th>\n",
       "      <th>Gender</th>\n",
       "      <th>Age</th>\n",
       "      <th>First Transaction Date</th>\n",
       "      <th>No_Pol</th>\n",
       "      <th>Car_Category</th>\n",
       "      <th>Subject_Car_Colour</th>\n",
       "      <th>Subject_Car_Make</th>\n",
       "      <th>LGA_Name</th>\n",
       "      <th>State</th>\n",
       "      <th>ProductName</th>\n",
       "    </tr>\n",
       "  </thead>\n",
       "  <tbody>\n",
       "    <tr>\n",
       "      <th>0</th>\n",
       "      <td>ID_01QM0NU</td>\n",
       "      <td>2010-10-23</td>\n",
       "      <td>2011-10-22</td>\n",
       "      <td>Female</td>\n",
       "      <td>46</td>\n",
       "      <td>2010-10-23</td>\n",
       "      <td>1</td>\n",
       "      <td>NaN</td>\n",
       "      <td>NaN</td>\n",
       "      <td>Ford</td>\n",
       "      <td>Abuja Municipal</td>\n",
       "      <td>Abuja-Municipal</td>\n",
       "      <td>Car Classic</td>\n",
       "    </tr>\n",
       "    <tr>\n",
       "      <th>1</th>\n",
       "      <td>ID_024NJLZ</td>\n",
       "      <td>2010-10-14</td>\n",
       "      <td>2011-10-13</td>\n",
       "      <td>Male</td>\n",
       "      <td>32</td>\n",
       "      <td>2010-10-14</td>\n",
       "      <td>1</td>\n",
       "      <td>NaN</td>\n",
       "      <td>NaN</td>\n",
       "      <td>NaN</td>\n",
       "      <td>Kosofe</td>\n",
       "      <td>Benue</td>\n",
       "      <td>Car Classic</td>\n",
       "    </tr>\n",
       "    <tr>\n",
       "      <th>2</th>\n",
       "      <td>ID_02NOVWQ</td>\n",
       "      <td>2010-08-29</td>\n",
       "      <td>2011-08-28</td>\n",
       "      <td>Female</td>\n",
       "      <td>45</td>\n",
       "      <td>2010-08-29</td>\n",
       "      <td>2</td>\n",
       "      <td>Saloon</td>\n",
       "      <td>Black</td>\n",
       "      <td>Honda</td>\n",
       "      <td>Wuse 11</td>\n",
       "      <td>Abuja</td>\n",
       "      <td>Car Classic</td>\n",
       "    </tr>\n",
       "    <tr>\n",
       "      <th>3</th>\n",
       "      <td>ID_02VSP68</td>\n",
       "      <td>2010-06-13</td>\n",
       "      <td>2011-06-12</td>\n",
       "      <td>Female</td>\n",
       "      <td>58</td>\n",
       "      <td>2010-06-13</td>\n",
       "      <td>1</td>\n",
       "      <td>Saloon</td>\n",
       "      <td>NaN</td>\n",
       "      <td>TOYOTA</td>\n",
       "      <td>NaN</td>\n",
       "      <td>NaN</td>\n",
       "      <td>CarSafe</td>\n",
       "    </tr>\n",
       "    <tr>\n",
       "      <th>4</th>\n",
       "      <td>ID_02YB37K</td>\n",
       "      <td>2010-07-01</td>\n",
       "      <td>2011-06-30</td>\n",
       "      <td>NaN</td>\n",
       "      <td>120</td>\n",
       "      <td>2010-07-01</td>\n",
       "      <td>1</td>\n",
       "      <td>Saloon</td>\n",
       "      <td>Red</td>\n",
       "      <td>Hyundai</td>\n",
       "      <td>Victoria Island</td>\n",
       "      <td>Lagos</td>\n",
       "      <td>Car Classic</td>\n",
       "    </tr>\n",
       "  </tbody>\n",
       "</table>\n",
       "</div>"
      ],
      "text/plain": [
       "           ID Policy Start Date  ...            State  ProductName\n",
       "0  ID_01QM0NU        2010-10-23  ...  Abuja-Municipal  Car Classic\n",
       "1  ID_024NJLZ        2010-10-14  ...            Benue  Car Classic\n",
       "2  ID_02NOVWQ        2010-08-29  ...            Abuja  Car Classic\n",
       "3  ID_02VSP68        2010-06-13  ...              NaN      CarSafe\n",
       "4  ID_02YB37K        2010-07-01  ...            Lagos  Car Classic\n",
       "\n",
       "[5 rows x 13 columns]"
      ]
     },
     "execution_count": 6,
     "metadata": {
      "tags": []
     },
     "output_type": "execute_result"
    }
   ],
   "source": [
    "#view the first 5 rows of the train dataset\n",
    "test.head()"
   ]
  },
  {
   "cell_type": "code",
   "execution_count": 7,
   "metadata": {
    "colab": {
     "base_uri": "https://localhost:8080/"
    },
    "id": "Pmx9Aeke9Bnk",
    "outputId": "df7c53b0-9de9-4c90-ae47-4b75d52ff6f6"
   },
   "outputs": [
    {
     "data": {
      "text/plain": [
       "(1202, 13)"
      ]
     },
     "execution_count": 7,
     "metadata": {
      "tags": []
     },
     "output_type": "execute_result"
    }
   ],
   "source": [
    "test.shape"
   ]
  },
  {
   "cell_type": "code",
   "execution_count": 8,
   "metadata": {
    "colab": {
     "base_uri": "https://localhost:8080/"
    },
    "id": "UQEmIkcF9CJf",
    "outputId": "91ba6d4c-6cbd-48c9-ad6d-8c1294d4fd01"
   },
   "outputs": [
    {
     "data": {
      "text/plain": [
       "(12079, 14)"
      ]
     },
     "execution_count": 8,
     "metadata": {
      "tags": []
     },
     "output_type": "execute_result"
    }
   ],
   "source": [
    "train.shape"
   ]
  },
  {
   "cell_type": "code",
   "execution_count": 9,
   "metadata": {
    "colab": {
     "base_uri": "https://localhost:8080/",
     "height": 446
    },
    "id": "kM46tEkU96cL",
    "outputId": "ee0373ac-7a35-466b-d657-ce6435cdc6ca"
   },
   "outputs": [
    {
     "data": {
      "image/png": "[encoded data removed]",
      "text/plain": [
       "<Figure size 720x504 with 1 Axes>"
      ]
     },
     "metadata": {
      "needs_background": "light",
      "tags": []
     },
     "output_type": "display_data"
    }
   ],
   "source": [
    "# Check if there any missing values in train set\n",
    "ax = train.isna().sum().sort_values().plot(kind = 'barh', figsize = (10, 7))\n",
    "plt.title('Percentage of Missing Values Per Column in Train Set', fontdict={'size':15})\n",
    "for p in ax.patches:\n",
    "    percentage ='{:,.0f}%'.format((p.get_width()/train.shape[0])*100)\n",
    "    width, height =p.get_width(),p.get_height()\n",
    "    x=p.get_x()+width+0.02\n",
    "    y=p.get_y()+height/2\n",
    "    ax.annotate(percentage,(x,y))"
   ]
  },
  {
   "cell_type": "code",
   "execution_count": 10,
   "metadata": {
    "colab": {
     "base_uri": "https://localhost:8080/",
     "height": 446
    },
    "id": "r-aTZdtR-k9D",
    "outputId": "53c0260c-281a-4811-b757-c5f04be821b3"
   },
   "outputs": [
    {
     "data": {
      "image/png": "[encoded data removed]",
      "text/plain": [
       "<Figure size 720x504 with 1 Axes>"
      ]
     },
     "metadata": {
      "needs_background": "light",
      "tags": []
     },
     "output_type": "display_data"
    }
   ],
   "source": [
    "#Check if there missing values in test set\n",
    "ax = test.isna().sum().sort_values().plot(kind = 'barh', figsize = (10, 7))\n",
    "plt.title('Percentage of Missing Values Per Column in Test Set', fontdict={'size':15})\n",
    "\n",
    "for p in ax.patches:\n",
    "    percentage ='{:,.1f}%'.format((p.get_width()/test.shape[0])*100)\n",
    "    width, height =p.get_width(),p.get_height()\n",
    "    x=p.get_x()+width+0.02\n",
    "    y=p.get_y()+height/2\n",
    "    ax.annotate(percentage,(x,y))"
   ]
  },
  {
   "cell_type": "code",
   "execution_count": 11,
   "metadata": {
    "colab": {
     "base_uri": "https://localhost:8080/"
    },
    "id": "NMSfbRRe-k6I",
    "outputId": "05cda18f-b3f2-4414-acee-81cb3159ba11"
   },
   "outputs": [
    {
     "name": "stdout",
     "output_type": "stream",
     "text": [
      "The shape of the combined dataframe is: (13281, 14)\n"
     ]
    }
   ],
   "source": [
    "# Combine train and test set\n",
    "ntrain = train.shape[0] # to be used to split train and test set from the combined dataframe\n",
    "\n",
    "all_data = pd.concat((train, test)).reset_index(drop=True)\n",
    "print(f'The shape of the combined dataframe is: {all_data.shape}')"
   ]
  },
  {
   "cell_type": "code",
   "execution_count": 12,
   "metadata": {
    "colab": {
     "base_uri": "https://localhost:8080/",
     "height": 323
    },
    "id": "SSvNHot4-k03",
    "outputId": "9d13d621-1b30-4363-b795-156ffae74c3a"
   },
   "outputs": [
    {
     "data": {
      "text/html": [
       "<div>\n",
       "<style scoped>\n",
       "    .dataframe tbody tr th:only-of-type {\n",
       "        vertical-align: middle;\n",
       "    }\n",
       "\n",
       "    .dataframe tbody tr th {\n",
       "        vertical-align: top;\n",
       "    }\n",
       "\n",
       "    .dataframe thead th {\n",
       "        text-align: right;\n",
       "    }\n",
       "</style>\n",
       "<table border=\"1\" class=\"dataframe\">\n",
       "  <thead>\n",
       "    <tr style=\"text-align: right;\">\n",
       "      <th></th>\n",
       "      <th>ID</th>\n",
       "      <th>Policy Start Date</th>\n",
       "      <th>Policy End Date</th>\n",
       "      <th>Gender</th>\n",
       "      <th>Age</th>\n",
       "      <th>First Transaction Date</th>\n",
       "      <th>No_Pol</th>\n",
       "      <th>Car_Category</th>\n",
       "      <th>Subject_Car_Colour</th>\n",
       "      <th>Subject_Car_Make</th>\n",
       "      <th>LGA_Name</th>\n",
       "      <th>State</th>\n",
       "      <th>ProductName</th>\n",
       "      <th>target</th>\n",
       "    </tr>\n",
       "  </thead>\n",
       "  <tbody>\n",
       "    <tr>\n",
       "      <th>13276</th>\n",
       "      <td>ID_ZTTHC5X</td>\n",
       "      <td>2010-12-05</td>\n",
       "      <td>2011-12-04</td>\n",
       "      <td>Male</td>\n",
       "      <td>67</td>\n",
       "      <td>2010-12-05</td>\n",
       "      <td>2</td>\n",
       "      <td>JEEP</td>\n",
       "      <td>Black</td>\n",
       "      <td>TOYOTA</td>\n",
       "      <td>Victoria Island</td>\n",
       "      <td>Lagos</td>\n",
       "      <td>Car Classic</td>\n",
       "      <td>NaN</td>\n",
       "    </tr>\n",
       "    <tr>\n",
       "      <th>13277</th>\n",
       "      <td>ID_ZUJAFUP</td>\n",
       "      <td>2010-01-14</td>\n",
       "      <td>2011-01-13</td>\n",
       "      <td>Male</td>\n",
       "      <td>43</td>\n",
       "      <td>2010-01-14</td>\n",
       "      <td>1</td>\n",
       "      <td>Saloon</td>\n",
       "      <td>Silver</td>\n",
       "      <td>Hyundai</td>\n",
       "      <td>Surulere</td>\n",
       "      <td>Lagos</td>\n",
       "      <td>Car Classic</td>\n",
       "      <td>NaN</td>\n",
       "    </tr>\n",
       "    <tr>\n",
       "      <th>13278</th>\n",
       "      <td>ID_ZWHCTUM</td>\n",
       "      <td>2010-07-26</td>\n",
       "      <td>2011-07-25</td>\n",
       "      <td>Male</td>\n",
       "      <td>30</td>\n",
       "      <td>2010-07-26</td>\n",
       "      <td>1</td>\n",
       "      <td>Truck</td>\n",
       "      <td>White</td>\n",
       "      <td>Iveco</td>\n",
       "      <td>Victoria Island</td>\n",
       "      <td>Lagos</td>\n",
       "      <td>CVTP</td>\n",
       "      <td>NaN</td>\n",
       "    </tr>\n",
       "    <tr>\n",
       "      <th>13279</th>\n",
       "      <td>ID_ZWQRL8L</td>\n",
       "      <td>2010-02-16</td>\n",
       "      <td>2011-02-15</td>\n",
       "      <td>Male</td>\n",
       "      <td>44</td>\n",
       "      <td>2010-02-16</td>\n",
       "      <td>2</td>\n",
       "      <td>Saloon</td>\n",
       "      <td>NaN</td>\n",
       "      <td>Nissan</td>\n",
       "      <td>Aba North</td>\n",
       "      <td>Aba-North</td>\n",
       "      <td>Car Classic</td>\n",
       "      <td>NaN</td>\n",
       "    </tr>\n",
       "    <tr>\n",
       "      <th>13280</th>\n",
       "      <td>ID_ZWZ92GU</td>\n",
       "      <td>2010-03-18</td>\n",
       "      <td>2011-03-17</td>\n",
       "      <td>Male</td>\n",
       "      <td>28</td>\n",
       "      <td>2010-03-18</td>\n",
       "      <td>1</td>\n",
       "      <td>Saloon</td>\n",
       "      <td>Silver</td>\n",
       "      <td>TOYOTA</td>\n",
       "      <td>NaN</td>\n",
       "      <td>NaN</td>\n",
       "      <td>Car Classic</td>\n",
       "      <td>NaN</td>\n",
       "    </tr>\n",
       "  </tbody>\n",
       "</table>\n",
       "</div>"
      ],
      "text/plain": [
       "               ID Policy Start Date  ...  ProductName target\n",
       "13276  ID_ZTTHC5X        2010-12-05  ...  Car Classic    NaN\n",
       "13277  ID_ZUJAFUP        2010-01-14  ...  Car Classic    NaN\n",
       "13278  ID_ZWHCTUM        2010-07-26  ...         CVTP    NaN\n",
       "13279  ID_ZWQRL8L        2010-02-16  ...  Car Classic    NaN\n",
       "13280  ID_ZWZ92GU        2010-03-18  ...  Car Classic    NaN\n",
       "\n",
       "[5 rows x 14 columns]"
      ]
     },
     "execution_count": 12,
     "metadata": {
      "tags": []
     },
     "output_type": "execute_result"
    }
   ],
   "source": [
    "# Preview the last five rows of the combined dataframe\n",
    "all_data.tail()"
   ]
  },
  {
   "cell_type": "code",
   "execution_count": 13,
   "metadata": {
    "colab": {
     "base_uri": "https://localhost:8080/"
    },
    "id": "9BG96YpW3-JX",
    "outputId": "96d58a00-7c98-4e70-be9d-1f8b3879d003"
   },
   "outputs": [
    {
     "data": {
      "text/plain": [
       "Saloon                     6633\n",
       "JEEP                       2223\n",
       "Truck                       108\n",
       "Bus                          56\n",
       "Mini Bus                     45\n",
       "Pick Up                      32\n",
       "Motorcycle                   18\n",
       "Sedan                        14\n",
       "Mini Van                     13\n",
       "Wagon                        10\n",
       "Shape Of Vehicle Chasis       6\n",
       "Station 4 Wheel               6\n",
       "Van                           3\n",
       "Pick Up > 3 Tons              2\n",
       "Tipper Truck                  1\n",
       "CAMRY CAR HIRE                1\n",
       "Name: Car_Category, dtype: int64"
      ]
     },
     "execution_count": 13,
     "metadata": {
      "tags": []
     },
     "output_type": "execute_result"
    }
   ],
   "source": [
    "all_data['Car_Category'].value_counts()"
   ]
  },
  {
   "cell_type": "code",
   "execution_count": 14,
   "metadata": {
    "id": "GzMeXWuD3911"
   },
   "outputs": [],
   "source": [
    "#regrouping the car category\n",
    "mapper = {'Bus':'other', 'Mini Bus':'other', 'Pick Up':'other', 'Motorcycle':'other', 'Sedan':'other', 'Mini Van':'other', 'Wagon':'other', 'Shape Of Vehicle Chasis':'other',\n",
    "          'Station 4 Wheel':'other', 'Van':'other', 'Pick Up > 3 Tons':'other', 'CAMRY CAR HIRE':'other', 'CAMRY CAR HIRE':'other', 'Tipper Truck':'Truck'}\n",
    "all_data.Car_Category = all_data.Car_Category.replace(mapper)\n"
   ]
  },
  {
   "cell_type": "code",
   "execution_count": 15,
   "metadata": {
    "colab": {
     "base_uri": "https://localhost:8080/"
    },
    "id": "wLDbKTzP_-Kz",
    "outputId": "53db125a-1e93-43d1-f02c-3554f3d94efd"
   },
   "outputs": [
    {
     "data": {
      "text/plain": [
       "Black             2057\n",
       "Silver             605\n",
       "Grey               565\n",
       "As Attached        555\n",
       "Blue               398\n",
       "White              321\n",
       "Red                274\n",
       "Green              259\n",
       "Gold               192\n",
       "Ash                142\n",
       "Wine               101\n",
       "Brown               65\n",
       "Cream               10\n",
       "Yellow               8\n",
       "Dark Gray            7\n",
       "Orange               5\n",
       "White & Blue         5\n",
       "Purple               4\n",
       "B.Silver             4\n",
       "Red & White          4\n",
       "Blue & Red           3\n",
       "Dark Grey            3\n",
       "D. Red               3\n",
       "Light Green          3\n",
       "Red & Black          2\n",
       "Black & Orange       2\n",
       "Gray & Silver        2\n",
       "Black & White        2\n",
       "Dark Blue            2\n",
       "White & Red          2\n",
       "Gray & Gray          2\n",
       "Dark Green           1\n",
       "Red & Blue           1\n",
       "Beige Mitalic        1\n",
       "Blue Sky             1\n",
       "White & Yellow       1\n",
       "Blue&White&Red       1\n",
       "Burgundy             1\n",
       "Light Blue           1\n",
       "Light Gray           1\n",
       "Red Maroon           1\n",
       "Champagne            1\n",
       "Red & Yellow         1\n",
       "Dark Red             1\n",
       "D. Gold              1\n",
       "Yellow & White       1\n",
       "Name: Subject_Car_Colour, dtype: int64"
      ]
     },
     "execution_count": 15,
     "metadata": {
      "tags": []
     },
     "output_type": "execute_result"
    }
   ],
   "source": [
    "all_data['Subject_Car_Colour'].value_counts().head(60)"
   ]
  },
  {
   "cell_type": "code",
   "execution_count": 17,
   "metadata": {
    "id": "eHuEqhvs1tuY"
   },
   "outputs": [],
   "source": [
    "#regrouping the Subject_car_colour\n",
    "mapper = {'Light Gray':'other', 'Beige Mitalic':'other', 'Dark Green':'other', 'Blue Sky':'other', 'Dark Red':'other', 'Champagne':'other', 'Light Blue':'other',\n",
    "          'Red & Blue':'other', 'White & Yellow' : 'other', 'Yellow & White':'other', 'Red & Yellow':'other', 'Blue&White&Red':'other', 'D. Gold':'other', \n",
    "          'Burgundy':'other', 'Red Maroon':'other', 'Dark Blue':'other', 'White & Red':'other', 'Red & Black':'other', 'Black & Orange':'other', 'Black & White':'other',\n",
    "          'Gray & Silver':'other', 'Gray & Gray':'other', 'D. Red':'other', 'Light Green':'other', 'Dark Grey':'other', 'Blue & Red':'other', 'Purple':'other',\n",
    "          'B.Silver':'other', 'Red & White':'other', 'White & Blue':'other', 'Dark Gray':'other', 'Yellow':'other', 'Cream':'other', 'other':'other',\n",
    "          'Brown':'other', 'Orange':'other'}\n",
    "\n",
    "all_data.Subject_Car_Colour = all_data.Subject_Car_Colour.replace(mapper)\n",
    "      "
   ]
  },
  {
   "cell_type": "code",
   "execution_count": 18,
   "metadata": {
    "colab": {
     "base_uri": "https://localhost:8080/"
    },
    "id": "WX1Th-x66tS9",
    "outputId": "6cfe11de-38d0-4c3e-91a4-70e94fa7b908"
   },
   "outputs": [
    {
     "data": {
      "text/plain": [
       "TOYOTA           5466\n",
       "Honda            1146\n",
       "Lexus             654\n",
       "Mercedes          577\n",
       "Hyundai           512\n",
       "                 ... \n",
       "Rols Royce          1\n",
       "Bajaj               1\n",
       "Ashok Leyland       1\n",
       "BRILLIANCE          1\n",
       "Datsun              1\n",
       "Name: Subject_Car_Make, Length: 75, dtype: int64"
      ]
     },
     "execution_count": 18,
     "metadata": {
      "tags": []
     },
     "output_type": "execute_result"
    }
   ],
   "source": [
    "all_data['Subject_Car_Make'].value_counts()"
   ]
  },
  {
   "cell_type": "code",
   "execution_count": 20,
   "metadata": {
    "id": "wtAfTHHI6s_r"
   },
   "outputs": [],
   "source": [
    "#regrouping the Subject_car_make\n",
    "mapper = {'Volvo':'other', 'Mack':'other', 'Audi':'other', 'Infiniti':'other', 'Pontiac':'other', 'Chevrolet':'other', 'DAF':'other', 'Skoda':'other', 'Jeep':'other',\n",
    "          'Porsche':'other', 'As Attached':'other','Scania':'other', 'Man':'other', 'GAC':'other', 'MINI COOPER':'other', 'Land Rover.':'other', 'GMC':'other',\n",
    "          'Subaru':'other', 'Renault':'other', 'Dodge':'other', 'Isuzu':'other', 'Opel':'other', 'Suzuki':'other', 'Mazda':'other', 'Peugeot':'other', 'other':'other',\n",
    "          'CHANGAN':'other', 'Grand Cherokee':'other', 'Fiat':'other', 'Astra':'other', 'Black':'other', 'Hummer':'other', 'Chrysler':'other', 'Innson':'other',\n",
    "          'Seat':'other', 'Wrangler Jeep':'other', 'FOTON':'other', 'Jaguar':'other', 'LIBERTY':'other', 'other':'other', 'Caddillac':'other', 'BRILLIANCE':'other',\n",
    "          'Datsun':'other', 'Ashok Leyland':'other', 'Raston':'other', 'MG':'other', 'COMMANDER':'other', 'KA':'other', 'ABG':'other', 'Buik':'other', 'Jincheng':'other',\n",
    "          'REXTON':'other','Bajaj':'other', 'other':'other', 'ZOYTE':'other', 'Motorcycle':'other', 'Yamaha':'other', 'Lincoln':'other', 'Howo':'other', 'Geely':'other',\n",
    "          'Tata':'other', 'Rols Royce':'other', 'other':'other', '.':'other', 'Land Rover':'other', 'BMW':'other', 'ACURA':'other', 'other':'other'}\n",
    "all_data.Subject_Car_Make = all_data.Subject_Car_Make.replace(mapper)          "
   ]
  },
  {
   "cell_type": "code",
   "execution_count": 21,
   "metadata": {
    "colab": {
     "base_uri": "https://localhost:8080/"
    },
    "id": "oD5F08sA-kqr",
    "outputId": "bb4812a2-9a28-4bcc-cb98-21fa19b59f1a"
   },
   "outputs": [
    {
     "name": "stdout",
     "output_type": "stream",
     "text": [
      "<class 'pandas.core.frame.DataFrame'>\n",
      "RangeIndex: 13281 entries, 0 to 13280\n",
      "Data columns (total 14 columns):\n",
      " #   Column                  Non-Null Count  Dtype  \n",
      "---  ------                  --------------  -----  \n",
      " 0   ID                      13281 non-null  object \n",
      " 1   Policy Start Date       13281 non-null  object \n",
      " 2   Policy End Date         13281 non-null  object \n",
      " 3   Gender                  12881 non-null  object \n",
      " 4   Age                     13281 non-null  int64  \n",
      " 5   First Transaction Date  13281 non-null  object \n",
      " 6   No_Pol                  13281 non-null  int64  \n",
      " 7   Car_Category            9171 non-null   object \n",
      " 8   Subject_Car_Colour      5622 non-null   object \n",
      " 9   Subject_Car_Make        10557 non-null  object \n",
      " 10  LGA_Name                6149 non-null   object \n",
      " 11  State                   6137 non-null   object \n",
      " 12  ProductName             13281 non-null  object \n",
      " 13  target                  12079 non-null  float64\n",
      "dtypes: float64(1), int64(2), object(11)\n",
      "memory usage: 1.4+ MB\n"
     ]
    }
   ],
   "source": [
    "# Check the column names and datatypes\n",
    "all_data.info()"
   ]
  },
  {
   "cell_type": "code",
   "execution_count": 23,
   "metadata": {
    "colab": {
     "base_uri": "https://localhost:8080/"
    },
    "id": "zMS1Cwa7_mO_",
    "outputId": "69e6abe8-17f1-491c-f3eb-91f63b9a4bf0"
   },
   "outputs": [
    {
     "name": "stdout",
     "output_type": "stream",
     "text": [
      "<class 'pandas.core.frame.DataFrame'>\n",
      "RangeIndex: 13281 entries, 0 to 13280\n",
      "Data columns (total 14 columns):\n",
      " #   Column                  Non-Null Count  Dtype         \n",
      "---  ------                  --------------  -----         \n",
      " 0   ID                      13281 non-null  object        \n",
      " 1   Policy Start Date       13281 non-null  datetime64[ns]\n",
      " 2   Policy End Date         13281 non-null  datetime64[ns]\n",
      " 3   Gender                  12881 non-null  category      \n",
      " 4   Age                     13281 non-null  int64         \n",
      " 5   First Transaction Date  13281 non-null  datetime64[ns]\n",
      " 6   No_Pol                  13281 non-null  int64         \n",
      " 7   Car_Category            9171 non-null   category      \n",
      " 8   Subject_Car_Colour      5622 non-null   category      \n",
      " 9   Subject_Car_Make        10557 non-null  category      \n",
      " 10  LGA_Name                6149 non-null   category      \n",
      " 11  State                   6137 non-null   category      \n",
      " 12  ProductName             13281 non-null  category      \n",
      " 13  target                  12079 non-null  float64       \n",
      "dtypes: category(7), datetime64[ns](3), float64(1), int64(2), object(1)\n",
      "memory usage: 850.2+ KB\n"
     ]
    }
   ],
   "source": [
    "# Change each column to its appriopriate datatype\n",
    "date_cols = [col for col in all_data.columns if 'Date' in col]\n",
    "num_cols = ['Age', 'No_Pol']\n",
    "cat_cols = [col for col in all_data.columns if col not in date_cols+num_cols+['ID', 'target']]\n",
    "\n",
    "for col in all_data.columns:\n",
    "  if col in date_cols:\n",
    "    all_data[col] = pd.to_datetime(all_data[col])\n",
    "  elif col in cat_cols:\n",
    "    all_data[col] = all_data[col].astype('category')\n",
    "\n",
    "# Confirm whether the changes have been applied successfully\n",
    "all_data.info()"
   ]
  },
  {
   "cell_type": "code",
   "execution_count": null,
   "metadata": {
    "id": "f68RLY-L_mqV"
   },
   "outputs": [],
   "source": []
  },
  {
   "cell_type": "code",
   "execution_count": 24,
   "metadata": {
    "colab": {
     "base_uri": "https://localhost:8080/"
    },
    "id": "GSTdOrU--kbA",
    "outputId": "f89bfa73-dfda-486d-fca2-b365ab1eb0fb"
   },
   "outputs": [
    {
     "data": {
      "text/plain": [
       "Age                       0\n",
       "Car_Category              0\n",
       "First Transaction Date    0\n",
       "Gender                    0\n",
       "ID                        0\n",
       "LGA_Name                  0\n",
       "No_Pol                    0\n",
       "Policy End Date           0\n",
       "Policy Start Date         0\n",
       "ProductName               0\n",
       "State                     0\n",
       "Subject_Car_Colour        0\n",
       "Subject_Car_Make          0\n",
       "dtype: int64"
      ]
     },
     "execution_count": 24,
     "metadata": {
      "tags": []
     },
     "output_type": "execute_result"
    }
   ],
   "source": [
    "# Fill in missing values\n",
    "# For cat cols and date cols fill in with mode and for num cols fill in with 9999\n",
    "for col in all_data.columns:\n",
    "  if col in date_cols+cat_cols:\n",
    "    all_data[col] = all_data[col].fillna(all_data[col].mode()[0])\n",
    "  #elif col in num_cols:\n",
    "    #all_data[col] = all_data[col].fillna(all_data[col].fillna(9999))\n",
    "\n",
    "# Confirm that there aren't any missing values\n",
    "all_data[all_data.columns.difference(['target'])].isna().sum()"
   ]
  },
  {
   "cell_type": "code",
   "execution_count": 25,
   "metadata": {
    "colab": {
     "base_uri": "https://localhost:8080/",
     "height": 142
    },
    "id": "6CUnQk_MLXSr",
    "outputId": "30e0a988-490f-4d85-d068-8cb40176f688"
   },
   "outputs": [
    {
     "data": {
      "text/html": [
       "<div>\n",
       "<style scoped>\n",
       "    .dataframe tbody tr th:only-of-type {\n",
       "        vertical-align: middle;\n",
       "    }\n",
       "\n",
       "    .dataframe tbody tr th {\n",
       "        vertical-align: top;\n",
       "    }\n",
       "\n",
       "    .dataframe thead th {\n",
       "        text-align: right;\n",
       "    }\n",
       "</style>\n",
       "<table border=\"1\" class=\"dataframe\">\n",
       "  <thead>\n",
       "    <tr style=\"text-align: right;\">\n",
       "      <th></th>\n",
       "      <th>count</th>\n",
       "      <th>mean</th>\n",
       "      <th>std</th>\n",
       "      <th>min</th>\n",
       "      <th>25%</th>\n",
       "      <th>50%</th>\n",
       "      <th>75%</th>\n",
       "      <th>max</th>\n",
       "    </tr>\n",
       "  </thead>\n",
       "  <tbody>\n",
       "    <tr>\n",
       "      <th>Age</th>\n",
       "      <td>13281.0</td>\n",
       "      <td>42.375574</td>\n",
       "      <td>93.170951</td>\n",
       "      <td>-6099.0</td>\n",
       "      <td>35.0</td>\n",
       "      <td>41.0</td>\n",
       "      <td>50.0</td>\n",
       "      <td>320.0</td>\n",
       "    </tr>\n",
       "    <tr>\n",
       "      <th>No_Pol</th>\n",
       "      <td>13281.0</td>\n",
       "      <td>1.302763</td>\n",
       "      <td>0.723195</td>\n",
       "      <td>1.0</td>\n",
       "      <td>1.0</td>\n",
       "      <td>1.0</td>\n",
       "      <td>1.0</td>\n",
       "      <td>10.0</td>\n",
       "    </tr>\n",
       "    <tr>\n",
       "      <th>target</th>\n",
       "      <td>12079.0</td>\n",
       "      <td>0.120457</td>\n",
       "      <td>0.325509</td>\n",
       "      <td>0.0</td>\n",
       "      <td>0.0</td>\n",
       "      <td>0.0</td>\n",
       "      <td>0.0</td>\n",
       "      <td>1.0</td>\n",
       "    </tr>\n",
       "  </tbody>\n",
       "</table>\n",
       "</div>"
      ],
      "text/plain": [
       "          count       mean        std     min   25%   50%   75%    max\n",
       "Age     13281.0  42.375574  93.170951 -6099.0  35.0  41.0  50.0  320.0\n",
       "No_Pol  13281.0   1.302763   0.723195     1.0   1.0   1.0   1.0   10.0\n",
       "target  12079.0   0.120457   0.325509     0.0   0.0   0.0   0.0    1.0"
      ]
     },
     "execution_count": 25,
     "metadata": {
      "tags": []
     },
     "output_type": "execute_result"
    }
   ],
   "source": [
    "#statistics summary of the numeric variables\n",
    "all_data.describe().T"
   ]
  },
  {
   "cell_type": "code",
   "execution_count": 26,
   "metadata": {
    "id": "GMpQb6oeLoU4"
   },
   "outputs": [],
   "source": [
    "#setting the age values to the range of 18-100 years\n",
    "all_data.Age.loc[(all_data.Age < 18) | (all_data.Age > 100)] = np.nan"
   ]
  },
  {
   "cell_type": "code",
   "execution_count": 27,
   "metadata": {
    "colab": {
     "base_uri": "https://localhost:8080/"
    },
    "id": "Iq53l_7l_FZk",
    "outputId": "e3017eab-7d8e-4967-904e-a9f0b1736bf8"
   },
   "outputs": [
    {
     "data": {
      "text/plain": [
       "0        30.0\n",
       "1        79.0\n",
       "2        43.0\n",
       "3         NaN\n",
       "4        20.0\n",
       "         ... \n",
       "13276    67.0\n",
       "13277    43.0\n",
       "13278    30.0\n",
       "13279    44.0\n",
       "13280    28.0\n",
       "Name: Age, Length: 13281, dtype: float64"
      ]
     },
     "execution_count": 27,
     "metadata": {
      "tags": []
     },
     "output_type": "execute_result"
    }
   ],
   "source": [
    "all_data.Age"
   ]
  },
  {
   "cell_type": "code",
   "execution_count": 28,
   "metadata": {
    "id": "vtsSESpLL4r1"
   },
   "outputs": [],
   "source": [
    "from sklearn.impute import SimpleImputer \n",
    "\n",
    "# missing values - numeric - impute with mean in column age\n",
    "mean_imputer = SimpleImputer(missing_values=np.nan, strategy='mean')\n",
    "mean_imputer = mean_imputer.fit(all_data[['Age']])\n",
    "all_data['Age'] = mean_imputer.transform(all_data[['Age']]).ravel()"
   ]
  },
  {
   "cell_type": "code",
   "execution_count": 29,
   "metadata": {
    "colab": {
     "base_uri": "https://localhost:8080/"
    },
    "id": "S41SJH4JL5ZO",
    "outputId": "38cb9ee1-40ee-4e35-c4da-aaedeb685de3"
   },
   "outputs": [
    {
     "data": {
      "text/plain": [
       "0        30.000000\n",
       "1        79.000000\n",
       "2        43.000000\n",
       "3        42.919739\n",
       "4        20.000000\n",
       "           ...    \n",
       "13276    67.000000\n",
       "13277    43.000000\n",
       "13278    30.000000\n",
       "13279    44.000000\n",
       "13280    28.000000\n",
       "Name: Age, Length: 13281, dtype: float64"
      ]
     },
     "execution_count": 29,
     "metadata": {
      "tags": []
     },
     "output_type": "execute_result"
    }
   ],
   "source": [
    "all_data.Age"
   ]
  },
  {
   "cell_type": "code",
   "execution_count": 30,
   "metadata": {
    "colab": {
     "base_uri": "https://localhost:8080/"
    },
    "id": "MkP075s0_3YK",
    "outputId": "de42f32e-6f62-4603-f83c-3672170b858c"
   },
   "outputs": [
    {
     "data": {
      "text/plain": [
       "['Policy Start Date', 'Policy End Date', 'First Transaction Date']"
      ]
     },
     "execution_count": 30,
     "metadata": {
      "tags": []
     },
     "output_type": "execute_result"
    }
   ],
   "source": [
    "date_cols"
   ]
  },
  {
   "cell_type": "code",
   "execution_count": 31,
   "metadata": {
    "id": "ihdfLURy_4QE"
   },
   "outputs": [],
   "source": [
    "#converting the date_cols to datetime type\n",
    "for feat in date_cols:\n",
    "  all_data[feat] = pd.to_datetime(all_data[feat])"
   ]
  },
  {
   "cell_type": "code",
   "execution_count": 32,
   "metadata": {
    "id": "V4P8VD-0ZTt9"
   },
   "outputs": [],
   "source": [
    "#feature engineering: creating different columns from date columns\n",
    "all_data['Policy Start Date_year'] = all_data['Policy Start Date'].dt.year\n",
    "all_data['Policy Start Date_month'] = all_data['Policy Start Date'].dt.month\n",
    "all_data['Policy Start Date_week'] = all_data['Policy Start Date'].dt.week\n",
    "all_data['Policy Start Date_day'] = all_data['Policy Start Date'].dt.day\n",
    "all_data['Policy Start Date_hour'] = all_data['Policy Start Date'].dt.hour\n",
    "all_data['Policy Start Date_minute'] = all_data['Policy Start Date'].dt.minute\n",
    "all_data['Policy Start Date_dayofweek'] = all_data['Policy Start Date'].dt.dayofweek\n",
    "all_data['Policy Start Date_quarter'] = all_data['Policy Start Date'].dt.quarter\n",
    "all_data['policy Start Date_is_month_start'] = all_data['Policy Start Date'].dt.is_month_start\n",
    "all_data['Policy Start Date_is_month_end'] = all_data['Policy Start Date'].dt.is_month_end\n",
    "all_data['Policy Start Date_year_is_year_start'] = all_data['Policy Start Date'].dt.is_year_start\n",
    "all_data['Policy Start Date_year_is_year_end'] = all_data['Policy Start Date'].dt.is_year_end\n",
    "all_data['Policy Start Date_year_days'] = all_data['Policy Start Date'].dt.days_in_month\n",
    "all_data['Policy Start Date_year_is_quarter_start'] = all_data['Policy Start Date'].dt.is_quarter_start\n",
    "all_data['Policy Start Date_year_is_quarter_end'] = all_data['Policy Start Date'].dt.is_quarter_end\n",
    "all_data['Policy Start Date_leapyear'] = all_data['Policy Start Date'].dt.is_leap_year\n",
    "\n",
    "\n",
    "\n",
    "\n",
    "\n",
    "all_data['Policy End Date_year'] = all_data['Policy End Date'].dt.year\n",
    "all_data['Policy End Date_month'] = all_data['Policy End Date'].dt.month\n",
    "all_data['Policy End Date_week'] = all_data['Policy End Date'].dt.week\n",
    "all_data['Policy End Date_day'] = all_data['Policy End Date'].dt.day\n",
    "all_data['Policy End Date_hour'] = all_data['Policy End Date'].dt.hour\n",
    "all_data['Policy End Date_minute'] = all_data['Policy End Date'].dt.minute\n",
    "all_data['Policy End Date_dayofweek'] = all_data['Policy End Date'].dt.dayofweek\n",
    "all_data['Policy End Date_quarter'] = all_data['Policy End Date'].dt.quarter\n",
    "all_data['Policy End Date_is_month_start'] = all_data['Policy End Date'].dt.is_month_start\n",
    "all_data['Policy End Date_is_month_end'] = all_data['Policy End Date'].dt.is_month_end\n",
    "all_data['Policy End Date_is_year_start'] = all_data['Policy End Date'].dt.is_year_start\n",
    "all_data['Policy End Date_is_year_end'] = all_data['Policy End Date'].dt.is_year_end\n",
    "all_data['Policy End Date_days'] = all_data['Policy End Date'].dt.days_in_month\n",
    "all_data['Policy End Date_is_quarter_start'] = all_data['Policy End Date'].dt.is_quarter_start\n",
    "all_data['Policy End Date_is_quarter_end'] = all_data['Policy End Date'].dt.is_quarter_end\n",
    "all_data['Policy End Date_is_leap_year'] = all_data['Policy End Date'].dt.is_leap_year\n",
    "\n",
    "\n",
    "all_data['First Transaction Date_year'] = all_data['First Transaction Date'].dt.year\n",
    "all_data['First Transaction Date_month'] = all_data['First Transaction Date'].dt.month\n",
    "all_data['First Transaction Date_week'] = all_data['First Transaction Date'].dt.week\n",
    "all_data['First Transaction Date_day'] = all_data['First Transaction Date'].dt.day\n",
    "all_data['First Transaction Date_hour'] = all_data['First Transaction Date'].dt.hour\n",
    "all_data['First Transaction Date_minute'] = all_data['First Transaction Date'].dt.minute\n",
    "all_data['First Transaction Date_dayofweek'] = all_data['First Transaction Date'].dt.dayofweek\n",
    "all_data['First Transaction Date_quarter'] = all_data['First Transaction Date'].dt.quarter\n",
    "all_data['First Transaction Date.is_month_start'] = all_data['First Transaction Date'].dt.is_month_start\n",
    "all_data['First Transaction Date_is_month_end'] = all_data['First Transaction Date'].dt.is_month_end\n",
    "all_data['First Transaction Date_is_year_start'] = all_data['First Transaction Date'].dt.is_year_start\n",
    "all_data['First Transaction Date_is_year_end'] = all_data['First Transaction Date'].dt.is_year_end\n",
    "all_data['First Transaction Date_days'] = all_data['First Transaction Date'].dt.days_in_month\n",
    "all_data['First Transaction Date_is_quarter_start'] = all_data['First Transaction Date'].dt.is_quarter_start\n",
    "all_data['First Transaction Date_is_quarter_end'] = all_data['First Transaction Date'].dt.is_quarter_end\n",
    "all_data['First Transaction Date_is_leap_year'] = all_data['First Transaction Date'].dt.is_leap_year\n",
    "\n",
    "\n",
    "\n",
    "\n",
    "\n",
    "\n",
    "\n",
    "\n",
    "\n",
    "all_data['diff_days'] = all_data['Policy End Date'] - all_data['Policy Start Date']\n",
    "all_data['diff_days'] = all_data['diff_days'] / np.timedelta64(1, 'D')\n",
    "\n",
    "all_data['diff_weeks'] = all_data['Policy End Date'] - all_data['Policy Start Date']\n",
    "all_data['diff_weeks'] = all_data.diff_weeks / np.timedelta64(1, 'W')\n",
    "\n",
    "\n",
    "all_data['diff_months'] = all_data['Policy End Date'] - all_data['Policy Start Date']\n",
    "all_data['diff_months'] = all_data.diff_months / np.timedelta64(1, 'M')\n",
    "\n",
    "\n",
    "all_data['diff_years'] = all_data['Policy End Date'] - all_data['Policy Start Date']\n",
    "all_data['diff_years'] = all_data.diff_years / np.timedelta64(1, 'Y')\n",
    "\n",
    "\n",
    "\n",
    "\n",
    "\n",
    "\n",
    "\n",
    "\n",
    "\n",
    "\n",
    "\n",
    "\n",
    "\n",
    "\n",
    "\n",
    "\n",
    "\n",
    "\n",
    "\n",
    "\n",
    "\n",
    "\n",
    "\n",
    "\n",
    "\n",
    "\n",
    "\n",
    "\n",
    "\n",
    "\n"
   ]
  },
  {
   "cell_type": "code",
   "execution_count": 33,
   "metadata": {
    "colab": {
     "base_uri": "https://localhost:8080/",
     "height": 199
    },
    "id": "N1u2puLMDAwd",
    "outputId": "5d26e8eb-0a17-4603-82bf-efa5aba4cde5"
   },
   "outputs": [
    {
     "data": {
      "text/html": [
       "<div>\n",
       "<style scoped>\n",
       "    .dataframe tbody tr th:only-of-type {\n",
       "        vertical-align: middle;\n",
       "    }\n",
       "\n",
       "    .dataframe tbody tr th {\n",
       "        vertical-align: top;\n",
       "    }\n",
       "\n",
       "    .dataframe thead th {\n",
       "        text-align: right;\n",
       "    }\n",
       "</style>\n",
       "<table border=\"1\" class=\"dataframe\">\n",
       "  <thead>\n",
       "    <tr style=\"text-align: right;\">\n",
       "      <th></th>\n",
       "      <th>ID</th>\n",
       "      <th>Policy Start Date</th>\n",
       "      <th>Policy End Date</th>\n",
       "      <th>Gender</th>\n",
       "      <th>Age</th>\n",
       "      <th>First Transaction Date</th>\n",
       "      <th>No_Pol</th>\n",
       "      <th>Car_Category</th>\n",
       "      <th>Subject_Car_Colour</th>\n",
       "      <th>Subject_Car_Make</th>\n",
       "      <th>LGA_Name</th>\n",
       "      <th>State</th>\n",
       "      <th>ProductName</th>\n",
       "      <th>target</th>\n",
       "      <th>Policy Start Date_year</th>\n",
       "      <th>Policy Start Date_month</th>\n",
       "      <th>Policy Start Date_week</th>\n",
       "      <th>Policy Start Date_day</th>\n",
       "      <th>Policy Start Date_hour</th>\n",
       "      <th>Policy Start Date_minute</th>\n",
       "      <th>Policy Start Date_dayofweek</th>\n",
       "      <th>Policy Start Date_quarter</th>\n",
       "      <th>policy Start Date_is_month_start</th>\n",
       "      <th>Policy Start Date_is_month_end</th>\n",
       "      <th>Policy Start Date_year_is_year_start</th>\n",
       "      <th>Policy Start Date_year_is_year_end</th>\n",
       "      <th>Policy Start Date_year_days</th>\n",
       "      <th>Policy Start Date_year_is_quarter_start</th>\n",
       "      <th>Policy Start Date_year_is_quarter_end</th>\n",
       "      <th>Policy Start Date_leapyear</th>\n",
       "      <th>Policy End Date_year</th>\n",
       "      <th>Policy End Date_month</th>\n",
       "      <th>Policy End Date_week</th>\n",
       "      <th>Policy End Date_day</th>\n",
       "      <th>Policy End Date_hour</th>\n",
       "      <th>Policy End Date_minute</th>\n",
       "      <th>Policy End Date_dayofweek</th>\n",
       "      <th>Policy End Date_quarter</th>\n",
       "      <th>Policy End Date_is_month_start</th>\n",
       "      <th>Policy End Date_is_month_end</th>\n",
       "      <th>Policy End Date_is_year_start</th>\n",
       "      <th>Policy End Date_is_year_end</th>\n",
       "      <th>Policy End Date_days</th>\n",
       "      <th>Policy End Date_is_quarter_start</th>\n",
       "      <th>Policy End Date_is_quarter_end</th>\n",
       "      <th>Policy End Date_is_leap_year</th>\n",
       "      <th>First Transaction Date_year</th>\n",
       "      <th>First Transaction Date_month</th>\n",
       "      <th>First Transaction Date_week</th>\n",
       "      <th>First Transaction Date_day</th>\n",
       "      <th>First Transaction Date_hour</th>\n",
       "      <th>First Transaction Date_minute</th>\n",
       "      <th>First Transaction Date_dayofweek</th>\n",
       "      <th>First Transaction Date_quarter</th>\n",
       "      <th>First Transaction Date.is_month_start</th>\n",
       "      <th>First Transaction Date_is_month_end</th>\n",
       "      <th>First Transaction Date_is_year_start</th>\n",
       "      <th>First Transaction Date_is_year_end</th>\n",
       "      <th>First Transaction Date_days</th>\n",
       "      <th>First Transaction Date_is_quarter_start</th>\n",
       "      <th>First Transaction Date_is_quarter_end</th>\n",
       "      <th>First Transaction Date_is_leap_year</th>\n",
       "      <th>diff_days</th>\n",
       "      <th>diff_weeks</th>\n",
       "      <th>diff_months</th>\n",
       "      <th>diff_years</th>\n",
       "    </tr>\n",
       "  </thead>\n",
       "  <tbody>\n",
       "    <tr>\n",
       "      <th>0</th>\n",
       "      <td>ID_0040R73</td>\n",
       "      <td>2010-05-14</td>\n",
       "      <td>2011-05-13</td>\n",
       "      <td>Male</td>\n",
       "      <td>30.0</td>\n",
       "      <td>2010-05-14</td>\n",
       "      <td>1</td>\n",
       "      <td>Saloon</td>\n",
       "      <td>Black</td>\n",
       "      <td>TOYOTA</td>\n",
       "      <td>Victoria Island</td>\n",
       "      <td>Lagos</td>\n",
       "      <td>Car Classic</td>\n",
       "      <td>0.0</td>\n",
       "      <td>2010</td>\n",
       "      <td>5</td>\n",
       "      <td>19</td>\n",
       "      <td>14</td>\n",
       "      <td>0</td>\n",
       "      <td>0</td>\n",
       "      <td>4</td>\n",
       "      <td>2</td>\n",
       "      <td>False</td>\n",
       "      <td>False</td>\n",
       "      <td>False</td>\n",
       "      <td>False</td>\n",
       "      <td>31</td>\n",
       "      <td>False</td>\n",
       "      <td>False</td>\n",
       "      <td>False</td>\n",
       "      <td>2011</td>\n",
       "      <td>5</td>\n",
       "      <td>19</td>\n",
       "      <td>13</td>\n",
       "      <td>0</td>\n",
       "      <td>0</td>\n",
       "      <td>4</td>\n",
       "      <td>2</td>\n",
       "      <td>False</td>\n",
       "      <td>False</td>\n",
       "      <td>False</td>\n",
       "      <td>False</td>\n",
       "      <td>31</td>\n",
       "      <td>False</td>\n",
       "      <td>False</td>\n",
       "      <td>False</td>\n",
       "      <td>2010</td>\n",
       "      <td>5</td>\n",
       "      <td>19</td>\n",
       "      <td>14</td>\n",
       "      <td>0</td>\n",
       "      <td>0</td>\n",
       "      <td>4</td>\n",
       "      <td>2</td>\n",
       "      <td>False</td>\n",
       "      <td>False</td>\n",
       "      <td>False</td>\n",
       "      <td>False</td>\n",
       "      <td>31</td>\n",
       "      <td>False</td>\n",
       "      <td>False</td>\n",
       "      <td>False</td>\n",
       "      <td>364.0</td>\n",
       "      <td>52.0</td>\n",
       "      <td>11.959178</td>\n",
       "      <td>0.996598</td>\n",
       "    </tr>\n",
       "    <tr>\n",
       "      <th>1</th>\n",
       "      <td>ID_0046BNK</td>\n",
       "      <td>2010-11-29</td>\n",
       "      <td>2011-11-28</td>\n",
       "      <td>Female</td>\n",
       "      <td>79.0</td>\n",
       "      <td>2010-11-29</td>\n",
       "      <td>1</td>\n",
       "      <td>JEEP</td>\n",
       "      <td>Grey</td>\n",
       "      <td>TOYOTA</td>\n",
       "      <td>Victoria Island</td>\n",
       "      <td>Lagos</td>\n",
       "      <td>Car Classic</td>\n",
       "      <td>1.0</td>\n",
       "      <td>2010</td>\n",
       "      <td>11</td>\n",
       "      <td>48</td>\n",
       "      <td>29</td>\n",
       "      <td>0</td>\n",
       "      <td>0</td>\n",
       "      <td>0</td>\n",
       "      <td>4</td>\n",
       "      <td>False</td>\n",
       "      <td>False</td>\n",
       "      <td>False</td>\n",
       "      <td>False</td>\n",
       "      <td>30</td>\n",
       "      <td>False</td>\n",
       "      <td>False</td>\n",
       "      <td>False</td>\n",
       "      <td>2011</td>\n",
       "      <td>11</td>\n",
       "      <td>48</td>\n",
       "      <td>28</td>\n",
       "      <td>0</td>\n",
       "      <td>0</td>\n",
       "      <td>0</td>\n",
       "      <td>4</td>\n",
       "      <td>False</td>\n",
       "      <td>False</td>\n",
       "      <td>False</td>\n",
       "      <td>False</td>\n",
       "      <td>30</td>\n",
       "      <td>False</td>\n",
       "      <td>False</td>\n",
       "      <td>False</td>\n",
       "      <td>2010</td>\n",
       "      <td>11</td>\n",
       "      <td>48</td>\n",
       "      <td>29</td>\n",
       "      <td>0</td>\n",
       "      <td>0</td>\n",
       "      <td>0</td>\n",
       "      <td>4</td>\n",
       "      <td>False</td>\n",
       "      <td>False</td>\n",
       "      <td>False</td>\n",
       "      <td>False</td>\n",
       "      <td>30</td>\n",
       "      <td>False</td>\n",
       "      <td>False</td>\n",
       "      <td>False</td>\n",
       "      <td>364.0</td>\n",
       "      <td>52.0</td>\n",
       "      <td>11.959178</td>\n",
       "      <td>0.996598</td>\n",
       "    </tr>\n",
       "  </tbody>\n",
       "</table>\n",
       "</div>"
      ],
      "text/plain": [
       "           ID Policy Start Date  ... diff_months diff_years\n",
       "0  ID_0040R73        2010-05-14  ...   11.959178   0.996598\n",
       "1  ID_0046BNK        2010-11-29  ...   11.959178   0.996598\n",
       "\n",
       "[2 rows x 66 columns]"
      ]
     },
     "execution_count": 33,
     "metadata": {
      "tags": []
     },
     "output_type": "execute_result"
    }
   ],
   "source": [
    "all_data.head(2)"
   ]
  },
  {
   "cell_type": "code",
   "execution_count": 34,
   "metadata": {
    "id": "8jfcLvYODAo9"
   },
   "outputs": [],
   "source": [
    "#regrouping the Gender column\n",
    "mapper = {'Entity':'Other', 'Joint Gender':'Other', 'NOT STATED':'Other', 'NO GENDER': 'Other', 'SEX':\"Other\"}\n",
    "all_data.Gender = all_data.Gender.replace(mapper)\n"
   ]
  },
  {
   "cell_type": "code",
   "execution_count": 35,
   "metadata": {
    "colab": {
     "base_uri": "https://localhost:8080/"
    },
    "id": "XjwEbrK9DAgx",
    "outputId": "fec25f5d-fde4-458c-e3b3-eef982522018"
   },
   "outputs": [
    {
     "data": {
      "text/plain": [
       "Male      8756\n",
       "Female    3679\n",
       "Other      846\n",
       "Name: Gender, dtype: int64"
      ]
     },
     "execution_count": 35,
     "metadata": {
      "tags": []
     },
     "output_type": "execute_result"
    }
   ],
   "source": [
    "all_data['Gender'].value_counts()"
   ]
  },
  {
   "cell_type": "code",
   "execution_count": 36,
   "metadata": {
    "id": "O8G17H7uDAW9"
   },
   "outputs": [],
   "source": [
    "from sklearn.preprocessing import LabelEncoder"
   ]
  },
  {
   "cell_type": "code",
   "execution_count": 37,
   "metadata": {
    "id": "BbW4z-vKC_7-"
   },
   "outputs": [],
   "source": [
    "#converting the categorical varaibles to numeric variables\n",
    "le = LabelEncoder()\n",
    "all_data['Gender'] = le.fit_transform(all_data['Gender'])\n",
    "all_data['Car_Category'] = le.fit_transform(all_data['Car_Category'])\n",
    "all_data['Subject_Car_Colour'] = le.fit_transform(all_data['Subject_Car_Colour'])\n",
    "all_data['Subject_Car_Make'] = le.fit_transform(all_data['Subject_Car_Make'])\n",
    "all_data['LGA_Name'] = le.fit_transform(all_data['LGA_Name'])\n",
    "all_data['State'] = le.fit_transform(all_data['State'])\n",
    "all_data['ProductName'] = le.fit_transform(all_data['ProductName'])\n",
    "all_data['ID'] = le.fit_transform(all_data['ID'])\n",
    "all_data['policy Start Date_is_month_start'] = le.fit_transform(all_data['policy Start Date_is_month_start'])\n",
    "all_data['Policy Start Date_is_month_end'] = le.fit_transform(all_data['Policy Start Date_is_month_end'])\n",
    "all_data['Policy Start Date_year_is_year_start'] = le.fit_transform(all_data['Policy Start Date_year_is_year_start'])\n",
    "all_data['Policy Start Date_year_is_year_end'] = le.fit_transform(all_data['Policy Start Date_year_is_year_end'])\n",
    "all_data['Policy Start Date_year_is_quarter_start'] = le.fit_transform(all_data['Policy Start Date_year_is_quarter_start'])\n",
    "all_data['Policy Start Date_year_is_quarter_end'] = le.fit_transform(all_data['Policy Start Date_year_is_quarter_end'])\n",
    "all_data['Policy Start Date_leapyear'] = le.fit_transform(all_data['Policy Start Date_leapyear'])\n",
    "all_data['Policy End Date_is_month_start'] = le.fit_transform(all_data['Policy End Date_is_month_start'])\n",
    "all_data['Policy End Date_is_month_end'] = le.fit_transform(all_data['Policy End Date_is_month_end'])\n",
    "all_data['Policy End Date_is_year_start'] = le.fit_transform(all_data['Policy End Date_is_year_start'])\n",
    "all_data['Policy End Date_is_year_end'] = le.fit_transform(all_data['Policy End Date_is_year_end'])\n",
    "all_data['Policy End Date_is_quarter_start'] = le.fit_transform(all_data['Policy End Date_is_quarter_start'])\n",
    "all_data['Policy End Date_is_quarter_end'] = le.fit_transform(all_data['Policy End Date_is_quarter_end'])\n",
    "all_data['Policy End Date_is_leap_year'] = le.fit_transform(all_data['Policy End Date_is_leap_year'])\n",
    "all_data['First Transaction Date.is_month_start'] = le.fit_transform(all_data['First Transaction Date.is_month_start'])\n",
    "all_data['First Transaction Date_is_month_end'] = le.fit_transform(all_data['First Transaction Date_is_month_end'])\n",
    "all_data['First Transaction Date_is_year_start'] = le.fit_transform(all_data['First Transaction Date_is_year_start'])\n",
    "all_data['First Transaction Date_is_year_end'] = le.fit_transform(all_data['First Transaction Date_is_year_end'])\n",
    "all_data['First Transaction Date_is_quarter_start'] = le.fit_transform(all_data['First Transaction Date_is_quarter_start'])\n",
    "all_data['First Transaction Date_is_quarter_end'] = le.fit_transform(all_data['First Transaction Date_is_quarter_end'])\n",
    "all_data['First Transaction Date_is_leap_year'] = le.fit_transform(all_data['First Transaction Date_is_leap_year'])\n",
    "\n"
   ]
  },
  {
   "cell_type": "code",
   "execution_count": 38,
   "metadata": {
    "colab": {
     "base_uri": "https://localhost:8080/",
     "height": 343
    },
    "id": "g0cvacs-le8o",
    "outputId": "e863f880-5ffd-42b6-c9cd-0e9e63305060"
   },
   "outputs": [
    {
     "data": {
      "text/html": [
       "<div>\n",
       "<style scoped>\n",
       "    .dataframe tbody tr th:only-of-type {\n",
       "        vertical-align: middle;\n",
       "    }\n",
       "\n",
       "    .dataframe tbody tr th {\n",
       "        vertical-align: top;\n",
       "    }\n",
       "\n",
       "    .dataframe thead th {\n",
       "        text-align: right;\n",
       "    }\n",
       "</style>\n",
       "<table border=\"1\" class=\"dataframe\">\n",
       "  <thead>\n",
       "    <tr style=\"text-align: right;\">\n",
       "      <th></th>\n",
       "      <th>ID</th>\n",
       "      <th>Policy Start Date</th>\n",
       "      <th>Policy End Date</th>\n",
       "      <th>Gender</th>\n",
       "      <th>Age</th>\n",
       "      <th>First Transaction Date</th>\n",
       "      <th>No_Pol</th>\n",
       "      <th>Car_Category</th>\n",
       "      <th>Subject_Car_Colour</th>\n",
       "      <th>Subject_Car_Make</th>\n",
       "      <th>LGA_Name</th>\n",
       "      <th>State</th>\n",
       "      <th>ProductName</th>\n",
       "      <th>target</th>\n",
       "      <th>Policy Start Date_year</th>\n",
       "      <th>Policy Start Date_month</th>\n",
       "      <th>Policy Start Date_week</th>\n",
       "      <th>Policy Start Date_day</th>\n",
       "      <th>Policy Start Date_hour</th>\n",
       "      <th>Policy Start Date_minute</th>\n",
       "      <th>Policy Start Date_dayofweek</th>\n",
       "      <th>Policy Start Date_quarter</th>\n",
       "      <th>policy Start Date_is_month_start</th>\n",
       "      <th>Policy Start Date_is_month_end</th>\n",
       "      <th>Policy Start Date_year_is_year_start</th>\n",
       "      <th>Policy Start Date_year_is_year_end</th>\n",
       "      <th>Policy Start Date_year_days</th>\n",
       "      <th>Policy Start Date_year_is_quarter_start</th>\n",
       "      <th>Policy Start Date_year_is_quarter_end</th>\n",
       "      <th>Policy Start Date_leapyear</th>\n",
       "      <th>Policy End Date_year</th>\n",
       "      <th>Policy End Date_month</th>\n",
       "      <th>Policy End Date_week</th>\n",
       "      <th>Policy End Date_day</th>\n",
       "      <th>Policy End Date_hour</th>\n",
       "      <th>Policy End Date_minute</th>\n",
       "      <th>Policy End Date_dayofweek</th>\n",
       "      <th>Policy End Date_quarter</th>\n",
       "      <th>Policy End Date_is_month_start</th>\n",
       "      <th>Policy End Date_is_month_end</th>\n",
       "      <th>Policy End Date_is_year_start</th>\n",
       "      <th>Policy End Date_is_year_end</th>\n",
       "      <th>Policy End Date_days</th>\n",
       "      <th>Policy End Date_is_quarter_start</th>\n",
       "      <th>Policy End Date_is_quarter_end</th>\n",
       "      <th>Policy End Date_is_leap_year</th>\n",
       "      <th>First Transaction Date_year</th>\n",
       "      <th>First Transaction Date_month</th>\n",
       "      <th>First Transaction Date_week</th>\n",
       "      <th>First Transaction Date_day</th>\n",
       "      <th>First Transaction Date_hour</th>\n",
       "      <th>First Transaction Date_minute</th>\n",
       "      <th>First Transaction Date_dayofweek</th>\n",
       "      <th>First Transaction Date_quarter</th>\n",
       "      <th>First Transaction Date.is_month_start</th>\n",
       "      <th>First Transaction Date_is_month_end</th>\n",
       "      <th>First Transaction Date_is_year_start</th>\n",
       "      <th>First Transaction Date_is_year_end</th>\n",
       "      <th>First Transaction Date_days</th>\n",
       "      <th>First Transaction Date_is_quarter_start</th>\n",
       "      <th>First Transaction Date_is_quarter_end</th>\n",
       "      <th>First Transaction Date_is_leap_year</th>\n",
       "      <th>diff_days</th>\n",
       "      <th>diff_weeks</th>\n",
       "      <th>diff_months</th>\n",
       "      <th>diff_years</th>\n",
       "    </tr>\n",
       "  </thead>\n",
       "  <tbody>\n",
       "    <tr>\n",
       "      <th>0</th>\n",
       "      <td>0</td>\n",
       "      <td>2010-05-14</td>\n",
       "      <td>2011-05-13</td>\n",
       "      <td>1</td>\n",
       "      <td>30.000000</td>\n",
       "      <td>2010-05-14</td>\n",
       "      <td>1</td>\n",
       "      <td>1</td>\n",
       "      <td>2</td>\n",
       "      <td>10</td>\n",
       "      <td>258</td>\n",
       "      <td>74</td>\n",
       "      <td>1</td>\n",
       "      <td>0.0</td>\n",
       "      <td>2010</td>\n",
       "      <td>5</td>\n",
       "      <td>19</td>\n",
       "      <td>14</td>\n",
       "      <td>0</td>\n",
       "      <td>0</td>\n",
       "      <td>4</td>\n",
       "      <td>2</td>\n",
       "      <td>0</td>\n",
       "      <td>0</td>\n",
       "      <td>0</td>\n",
       "      <td>0</td>\n",
       "      <td>31</td>\n",
       "      <td>0</td>\n",
       "      <td>0</td>\n",
       "      <td>0</td>\n",
       "      <td>2011</td>\n",
       "      <td>5</td>\n",
       "      <td>19</td>\n",
       "      <td>13</td>\n",
       "      <td>0</td>\n",
       "      <td>0</td>\n",
       "      <td>4</td>\n",
       "      <td>2</td>\n",
       "      <td>0</td>\n",
       "      <td>0</td>\n",
       "      <td>0</td>\n",
       "      <td>0</td>\n",
       "      <td>31</td>\n",
       "      <td>0</td>\n",
       "      <td>0</td>\n",
       "      <td>0</td>\n",
       "      <td>2010</td>\n",
       "      <td>5</td>\n",
       "      <td>19</td>\n",
       "      <td>14</td>\n",
       "      <td>0</td>\n",
       "      <td>0</td>\n",
       "      <td>4</td>\n",
       "      <td>2</td>\n",
       "      <td>0</td>\n",
       "      <td>0</td>\n",
       "      <td>0</td>\n",
       "      <td>0</td>\n",
       "      <td>31</td>\n",
       "      <td>0</td>\n",
       "      <td>0</td>\n",
       "      <td>0</td>\n",
       "      <td>364.0</td>\n",
       "      <td>52.000000</td>\n",
       "      <td>11.959178</td>\n",
       "      <td>0.996598</td>\n",
       "    </tr>\n",
       "    <tr>\n",
       "      <th>1</th>\n",
       "      <td>1</td>\n",
       "      <td>2010-11-29</td>\n",
       "      <td>2011-11-28</td>\n",
       "      <td>0</td>\n",
       "      <td>79.000000</td>\n",
       "      <td>2010-11-29</td>\n",
       "      <td>1</td>\n",
       "      <td>0</td>\n",
       "      <td>6</td>\n",
       "      <td>10</td>\n",
       "      <td>258</td>\n",
       "      <td>74</td>\n",
       "      <td>1</td>\n",
       "      <td>1.0</td>\n",
       "      <td>2010</td>\n",
       "      <td>11</td>\n",
       "      <td>48</td>\n",
       "      <td>29</td>\n",
       "      <td>0</td>\n",
       "      <td>0</td>\n",
       "      <td>0</td>\n",
       "      <td>4</td>\n",
       "      <td>0</td>\n",
       "      <td>0</td>\n",
       "      <td>0</td>\n",
       "      <td>0</td>\n",
       "      <td>30</td>\n",
       "      <td>0</td>\n",
       "      <td>0</td>\n",
       "      <td>0</td>\n",
       "      <td>2011</td>\n",
       "      <td>11</td>\n",
       "      <td>48</td>\n",
       "      <td>28</td>\n",
       "      <td>0</td>\n",
       "      <td>0</td>\n",
       "      <td>0</td>\n",
       "      <td>4</td>\n",
       "      <td>0</td>\n",
       "      <td>0</td>\n",
       "      <td>0</td>\n",
       "      <td>0</td>\n",
       "      <td>30</td>\n",
       "      <td>0</td>\n",
       "      <td>0</td>\n",
       "      <td>0</td>\n",
       "      <td>2010</td>\n",
       "      <td>11</td>\n",
       "      <td>48</td>\n",
       "      <td>29</td>\n",
       "      <td>0</td>\n",
       "      <td>0</td>\n",
       "      <td>0</td>\n",
       "      <td>4</td>\n",
       "      <td>0</td>\n",
       "      <td>0</td>\n",
       "      <td>0</td>\n",
       "      <td>0</td>\n",
       "      <td>30</td>\n",
       "      <td>0</td>\n",
       "      <td>0</td>\n",
       "      <td>0</td>\n",
       "      <td>364.0</td>\n",
       "      <td>52.000000</td>\n",
       "      <td>11.959178</td>\n",
       "      <td>0.996598</td>\n",
       "    </tr>\n",
       "    <tr>\n",
       "      <th>2</th>\n",
       "      <td>2</td>\n",
       "      <td>2010-03-21</td>\n",
       "      <td>2011-03-20</td>\n",
       "      <td>1</td>\n",
       "      <td>43.000000</td>\n",
       "      <td>2010-03-21</td>\n",
       "      <td>1</td>\n",
       "      <td>1</td>\n",
       "      <td>7</td>\n",
       "      <td>10</td>\n",
       "      <td>258</td>\n",
       "      <td>74</td>\n",
       "      <td>1</td>\n",
       "      <td>0.0</td>\n",
       "      <td>2010</td>\n",
       "      <td>3</td>\n",
       "      <td>11</td>\n",
       "      <td>21</td>\n",
       "      <td>0</td>\n",
       "      <td>0</td>\n",
       "      <td>6</td>\n",
       "      <td>1</td>\n",
       "      <td>0</td>\n",
       "      <td>0</td>\n",
       "      <td>0</td>\n",
       "      <td>0</td>\n",
       "      <td>31</td>\n",
       "      <td>0</td>\n",
       "      <td>0</td>\n",
       "      <td>0</td>\n",
       "      <td>2011</td>\n",
       "      <td>3</td>\n",
       "      <td>11</td>\n",
       "      <td>20</td>\n",
       "      <td>0</td>\n",
       "      <td>0</td>\n",
       "      <td>6</td>\n",
       "      <td>1</td>\n",
       "      <td>0</td>\n",
       "      <td>0</td>\n",
       "      <td>0</td>\n",
       "      <td>0</td>\n",
       "      <td>31</td>\n",
       "      <td>0</td>\n",
       "      <td>0</td>\n",
       "      <td>0</td>\n",
       "      <td>2010</td>\n",
       "      <td>3</td>\n",
       "      <td>11</td>\n",
       "      <td>21</td>\n",
       "      <td>0</td>\n",
       "      <td>0</td>\n",
       "      <td>6</td>\n",
       "      <td>1</td>\n",
       "      <td>0</td>\n",
       "      <td>0</td>\n",
       "      <td>0</td>\n",
       "      <td>0</td>\n",
       "      <td>31</td>\n",
       "      <td>0</td>\n",
       "      <td>0</td>\n",
       "      <td>0</td>\n",
       "      <td>364.0</td>\n",
       "      <td>52.000000</td>\n",
       "      <td>11.959178</td>\n",
       "      <td>0.996598</td>\n",
       "    </tr>\n",
       "    <tr>\n",
       "      <th>3</th>\n",
       "      <td>3</td>\n",
       "      <td>2010-08-21</td>\n",
       "      <td>2011-08-20</td>\n",
       "      <td>1</td>\n",
       "      <td>42.919739</td>\n",
       "      <td>2010-08-21</td>\n",
       "      <td>1</td>\n",
       "      <td>1</td>\n",
       "      <td>2</td>\n",
       "      <td>10</td>\n",
       "      <td>258</td>\n",
       "      <td>74</td>\n",
       "      <td>5</td>\n",
       "      <td>0.0</td>\n",
       "      <td>2010</td>\n",
       "      <td>8</td>\n",
       "      <td>33</td>\n",
       "      <td>21</td>\n",
       "      <td>0</td>\n",
       "      <td>0</td>\n",
       "      <td>5</td>\n",
       "      <td>3</td>\n",
       "      <td>0</td>\n",
       "      <td>0</td>\n",
       "      <td>0</td>\n",
       "      <td>0</td>\n",
       "      <td>31</td>\n",
       "      <td>0</td>\n",
       "      <td>0</td>\n",
       "      <td>0</td>\n",
       "      <td>2011</td>\n",
       "      <td>8</td>\n",
       "      <td>33</td>\n",
       "      <td>20</td>\n",
       "      <td>0</td>\n",
       "      <td>0</td>\n",
       "      <td>5</td>\n",
       "      <td>3</td>\n",
       "      <td>0</td>\n",
       "      <td>0</td>\n",
       "      <td>0</td>\n",
       "      <td>0</td>\n",
       "      <td>31</td>\n",
       "      <td>0</td>\n",
       "      <td>0</td>\n",
       "      <td>0</td>\n",
       "      <td>2010</td>\n",
       "      <td>8</td>\n",
       "      <td>33</td>\n",
       "      <td>21</td>\n",
       "      <td>0</td>\n",
       "      <td>0</td>\n",
       "      <td>5</td>\n",
       "      <td>3</td>\n",
       "      <td>0</td>\n",
       "      <td>0</td>\n",
       "      <td>0</td>\n",
       "      <td>0</td>\n",
       "      <td>31</td>\n",
       "      <td>0</td>\n",
       "      <td>0</td>\n",
       "      <td>0</td>\n",
       "      <td>364.0</td>\n",
       "      <td>52.000000</td>\n",
       "      <td>11.959178</td>\n",
       "      <td>0.996598</td>\n",
       "    </tr>\n",
       "    <tr>\n",
       "      <th>4</th>\n",
       "      <td>4</td>\n",
       "      <td>2010-08-29</td>\n",
       "      <td>2010-12-31</td>\n",
       "      <td>2</td>\n",
       "      <td>20.000000</td>\n",
       "      <td>2010-08-29</td>\n",
       "      <td>3</td>\n",
       "      <td>1</td>\n",
       "      <td>2</td>\n",
       "      <td>10</td>\n",
       "      <td>165</td>\n",
       "      <td>74</td>\n",
       "      <td>8</td>\n",
       "      <td>1.0</td>\n",
       "      <td>2010</td>\n",
       "      <td>8</td>\n",
       "      <td>34</td>\n",
       "      <td>29</td>\n",
       "      <td>0</td>\n",
       "      <td>0</td>\n",
       "      <td>6</td>\n",
       "      <td>3</td>\n",
       "      <td>0</td>\n",
       "      <td>0</td>\n",
       "      <td>0</td>\n",
       "      <td>0</td>\n",
       "      <td>31</td>\n",
       "      <td>0</td>\n",
       "      <td>0</td>\n",
       "      <td>0</td>\n",
       "      <td>2010</td>\n",
       "      <td>12</td>\n",
       "      <td>52</td>\n",
       "      <td>31</td>\n",
       "      <td>0</td>\n",
       "      <td>0</td>\n",
       "      <td>4</td>\n",
       "      <td>4</td>\n",
       "      <td>0</td>\n",
       "      <td>1</td>\n",
       "      <td>0</td>\n",
       "      <td>1</td>\n",
       "      <td>31</td>\n",
       "      <td>0</td>\n",
       "      <td>1</td>\n",
       "      <td>0</td>\n",
       "      <td>2010</td>\n",
       "      <td>8</td>\n",
       "      <td>34</td>\n",
       "      <td>29</td>\n",
       "      <td>0</td>\n",
       "      <td>0</td>\n",
       "      <td>6</td>\n",
       "      <td>3</td>\n",
       "      <td>0</td>\n",
       "      <td>0</td>\n",
       "      <td>0</td>\n",
       "      <td>0</td>\n",
       "      <td>31</td>\n",
       "      <td>0</td>\n",
       "      <td>0</td>\n",
       "      <td>0</td>\n",
       "      <td>124.0</td>\n",
       "      <td>17.714286</td>\n",
       "      <td>4.074006</td>\n",
       "      <td>0.339500</td>\n",
       "    </tr>\n",
       "  </tbody>\n",
       "</table>\n",
       "</div>"
      ],
      "text/plain": [
       "   ID Policy Start Date Policy End Date  ...  diff_weeks  diff_months diff_years\n",
       "0   0        2010-05-14      2011-05-13  ...   52.000000    11.959178   0.996598\n",
       "1   1        2010-11-29      2011-11-28  ...   52.000000    11.959178   0.996598\n",
       "2   2        2010-03-21      2011-03-20  ...   52.000000    11.959178   0.996598\n",
       "3   3        2010-08-21      2011-08-20  ...   52.000000    11.959178   0.996598\n",
       "4   4        2010-08-29      2010-12-31  ...   17.714286     4.074006   0.339500\n",
       "\n",
       "[5 rows x 66 columns]"
      ]
     },
     "execution_count": 38,
     "metadata": {
      "tags": []
     },
     "output_type": "execute_result"
    }
   ],
   "source": [
    "all_data.head()"
   ]
  },
  {
   "cell_type": "code",
   "execution_count": 39,
   "metadata": {
    "id": "ur722R1kedlx"
   },
   "outputs": [],
   "source": [
    "all_data['target'] = all_data['target'].fillna(9999)"
   ]
  },
  {
   "cell_type": "code",
   "execution_count": null,
   "metadata": {
    "colab": {
     "base_uri": "https://localhost:8080/"
    },
    "id": "rZrZnR-5E1xV",
    "outputId": "7e4a815e-8f10-4222-fa27-c9df7733eb5c"
   },
   "outputs": [
    {
     "data": {
      "text/plain": [
       "0           0.0\n",
       "1           1.0\n",
       "2           0.0\n",
       "3           0.0\n",
       "4           1.0\n",
       "          ...  \n",
       "13276    9999.0\n",
       "13277    9999.0\n",
       "13278    9999.0\n",
       "13279    9999.0\n",
       "13280    9999.0\n",
       "Name: target, Length: 13281, dtype: float64"
      ]
     },
     "execution_count": 67,
     "metadata": {
      "tags": []
     },
     "output_type": "execute_result"
    }
   ],
   "source": [
    "all_data['target']"
   ]
  },
  {
   "cell_type": "code",
   "execution_count": 40,
   "metadata": {
    "id": "G0R7m_4kE2Y-"
   },
   "outputs": [],
   "source": [
    "all_data.target = all_data.target.astype(int)\n"
   ]
  },
  {
   "cell_type": "code",
   "execution_count": 41,
   "metadata": {
    "id": "h5rFIf-_XBa-"
   },
   "outputs": [],
   "source": [
    "main_cols = all_data.columns.difference(date_cols+['ID','No_Pol\t' ,'target'])"
   ]
  },
  {
   "cell_type": "code",
   "execution_count": 42,
   "metadata": {
    "colab": {
     "base_uri": "https://localhost:8080/"
    },
    "id": "eczXMXYXE3Yv",
    "outputId": "e5099110-2e9e-4096-84d2-075771e9bb0e"
   },
   "outputs": [
    {
     "data": {
      "text/plain": [
       "((12079, 66), (1202, 66))"
      ]
     },
     "execution_count": 42,
     "metadata": {
      "tags": []
     },
     "output_type": "execute_result"
    }
   ],
   "source": [
    "train_n = all_data[:ntrain]\n",
    "test_n = all_data[ntrain:]\n",
    "\n",
    "train_n.shape, test_n.shape"
   ]
  },
  {
   "cell_type": "code",
   "execution_count": 43,
   "metadata": {
    "id": "xxIwMrmfaDuV"
   },
   "outputs": [],
   "source": [
    "X = train_n[main_cols].values\n",
    "y = train_n.target"
   ]
  },
  {
   "cell_type": "code",
   "execution_count": 44,
   "metadata": {
    "id": "0NFk3NnTWyaS"
   },
   "outputs": [],
   "source": [
    "#importing the libraries for balancing dataset\n",
    "from imblearn.under_sampling import RandomUnderSampler\n",
    "from imblearn.over_sampling import ADASYN, BorderlineSMOTE, RandomOverSampler, SMOTE"
   ]
  },
  {
   "cell_type": "code",
   "execution_count": 45,
   "metadata": {
    "colab": {
     "base_uri": "https://localhost:8080/"
    },
    "id": "Ej6qbLuPWyKy",
    "outputId": "661e24f7-2608-4461-cd79-3a5c405fb687"
   },
   "outputs": [
    {
     "name": "stdout",
     "output_type": "stream",
     "text": [
      "(12079, 61) (12079,)\n",
      "(20716, 61) (20716,)\n"
     ]
    }
   ],
   "source": [
    " #balancing the dataset\n",
    " us = RandomUnderSampler(0.2)\n",
    " os = RandomOverSampler(0.95, random_state=10)\n",
    " print(X.shape, y.shape)\n",
    " X, y = os.fit_resample(X, y)\n",
    " print(X.shape, y.shape)"
   ]
  },
  {
   "cell_type": "code",
   "execution_count": 46,
   "metadata": {
    "id": "9s1Mp2fyhEYz"
   },
   "outputs": [],
   "source": [
    "#splitting the dataset into test and train set\n",
    "X_train, X_test, y_train, y_test = train_test_split(X, y, test_size = 0.30, random_state=42)"
   ]
  },
  {
   "cell_type": "code",
   "execution_count": 47,
   "metadata": {
    "colab": {
     "base_uri": "https://localhost:8080/",
     "height": 265
    },
    "id": "8GDgUjuihDs4",
    "outputId": "c5852028-024e-4bf8-a648-68d12714a5ec"
   },
   "outputs": [
    {
     "data": {
      "image/png": "[encoded data removed]",
      "text/plain": [
       "<Figure size 432x288 with 1 Axes>"
      ]
     },
     "metadata": {
      "needs_background": "light",
      "tags": []
     },
     "output_type": "display_data"
    }
   ],
   "source": [
    "#checking the distribution of the target variable\n",
    "sns.countplot(y_train)\n",
    "plt.show()"
   ]
  },
  {
   "cell_type": "code",
   "execution_count": 48,
   "metadata": {
    "colab": {
     "base_uri": "https://localhost:8080/"
    },
    "id": "MDvDDOwjxNzT",
    "outputId": "51a686e3-b259-45fe-9728-cf9b4a6c9534"
   },
   "outputs": [
    {
     "name": "stdout",
     "output_type": "stream",
     "text": [
      "çlassification_report\n",
      "              precision    recall  f1-score   support\n",
      "\n",
      "           0       0.90      0.99      0.94      2880\n",
      "           1       0.99      0.90      0.94      3335\n",
      "\n",
      "    accuracy                           0.94      6215\n",
      "   macro avg       0.94      0.95      0.94      6215\n",
      "weighted avg       0.95      0.94      0.94      6215\n",
      "\n",
      "[[2848   32]\n",
      " [ 324 3011]]\n"
     ]
    }
   ],
   "source": [
    "#using RandomForestClassifier algorithm for modelling\n",
    "from sklearn.ensemble import RandomForestClassifier #Random Forest\n",
    "\n",
    "\n",
    "model_rf = RandomForestClassifier(n_estimators=210, random_state=3, max_features='auto')\n",
    "model_rf.fit(X_train, y_train)\n",
    "\n",
    "\n",
    "a = model_rf.predict(X_test)\n",
    "\n",
    "\n",
    "\n",
    "from sklearn.metrics import classification_report\n",
    "print('çlassification_report')\n",
    "print(classification_report(a, y_test))\n",
    "\n",
    "from sklearn.metrics import confusion_matrix\n",
    "print(confusion_matrix(a, y_test))"
   ]
  },
  {
   "cell_type": "code",
   "execution_count": 49,
   "metadata": {
    "id": "Y7nuCdNqXiCu"
   },
   "outputs": [],
   "source": [
    "y_pred = model_rf.predict(X_test)"
   ]
  },
  {
   "cell_type": "code",
   "execution_count": 50,
   "metadata": {
    "id": "gYZw_8NM_fVG"
   },
   "outputs": [],
   "source": [
    "test_n = test_n[main_cols]"
   ]
  },
  {
   "cell_type": "code",
   "execution_count": 51,
   "metadata": {
    "id": "weDuyIw8_fLW"
   },
   "outputs": [],
   "source": [
    "predictions = model_rf.predict(test_n)"
   ]
  },
  {
   "cell_type": "code",
   "execution_count": 52,
   "metadata": {
    "colab": {
     "base_uri": "https://localhost:8080/",
     "height": 282
    },
    "id": "E-19Jbu0BBGe",
    "outputId": "17d1c656-e7ad-4db5-a8c3-0dd0de4abd8b"
   },
   "outputs": [
    {
     "data": {
      "text/plain": [
       "<matplotlib.axes._subplots.AxesSubplot at 0x7f303c0549d0>"
      ]
     },
     "execution_count": 52,
     "metadata": {
      "tags": []
     },
     "output_type": "execute_result"
    },
    {
     "data": {
      "image/png": "[encoded data removed]",
      "text/plain": [
       "<Figure size 432x288 with 1 Axes>"
      ]
     },
     "metadata": {
      "needs_background": "light",
      "tags": []
     },
     "output_type": "display_data"
    }
   ],
   "source": [
    "#checking the predictions of the predicted variables\n",
    "sns.countplot(predictions)"
   ]
  },
  {
   "cell_type": "code",
   "execution_count": 53,
   "metadata": {
    "colab": {
     "base_uri": "https://localhost:8080/",
     "height": 204
    },
    "id": "IZBAzJNwBiy1",
    "outputId": "24b9bce3-67e2-4482-8c57-5adfd9ce9e79"
   },
   "outputs": [
    {
     "data": {
      "text/html": [
       "<div>\n",
       "<style scoped>\n",
       "    .dataframe tbody tr th:only-of-type {\n",
       "        vertical-align: middle;\n",
       "    }\n",
       "\n",
       "    .dataframe tbody tr th {\n",
       "        vertical-align: top;\n",
       "    }\n",
       "\n",
       "    .dataframe thead th {\n",
       "        text-align: right;\n",
       "    }\n",
       "</style>\n",
       "<table border=\"1\" class=\"dataframe\">\n",
       "  <thead>\n",
       "    <tr style=\"text-align: right;\">\n",
       "      <th></th>\n",
       "      <th>ID</th>\n",
       "      <th>target</th>\n",
       "    </tr>\n",
       "  </thead>\n",
       "  <tbody>\n",
       "    <tr>\n",
       "      <th>0</th>\n",
       "      <td>ID_01QM0NU</td>\n",
       "      <td>0</td>\n",
       "    </tr>\n",
       "    <tr>\n",
       "      <th>1</th>\n",
       "      <td>ID_024NJLZ</td>\n",
       "      <td>0</td>\n",
       "    </tr>\n",
       "    <tr>\n",
       "      <th>2</th>\n",
       "      <td>ID_02NOVWQ</td>\n",
       "      <td>0</td>\n",
       "    </tr>\n",
       "    <tr>\n",
       "      <th>3</th>\n",
       "      <td>ID_02VSP68</td>\n",
       "      <td>0</td>\n",
       "    </tr>\n",
       "    <tr>\n",
       "      <th>4</th>\n",
       "      <td>ID_02YB37K</td>\n",
       "      <td>0</td>\n",
       "    </tr>\n",
       "  </tbody>\n",
       "</table>\n",
       "</div>"
      ],
      "text/plain": [
       "           ID  target\n",
       "0  ID_01QM0NU       0\n",
       "1  ID_024NJLZ       0\n",
       "2  ID_02NOVWQ       0\n",
       "3  ID_02VSP68       0\n",
       "4  ID_02YB37K       0"
      ]
     },
     "execution_count": 53,
     "metadata": {
      "tags": []
     },
     "output_type": "execute_result"
    }
   ],
   "source": [
    "ss.head()"
   ]
  },
  {
   "cell_type": "code",
   "execution_count": 54,
   "metadata": {
    "id": "uPGm9D5X_e_c"
   },
   "outputs": [],
   "source": [
    "sub_file = ss.copy()"
   ]
  },
  {
   "cell_type": "code",
   "execution_count": 55,
   "metadata": {
    "id": "7OignVGB_dnW"
   },
   "outputs": [],
   "source": [
    "sub_file.target = predictions"
   ]
  },
  {
   "cell_type": "code",
   "execution_count": 56,
   "metadata": {
    "id": "F33TCSAbBqp1"
   },
   "outputs": [],
   "source": [
    "#making submissions\n",
    "sub_file.to_csv(\"submission_file.csv\", index=False)"
   ]
  }
 ],
 "metadata": {
  "colab": {
   "collapsed_sections": [],
   "name": "AUTOINLAND CHALLENGE SUBMISSIONS",
   "provenance": []
  },
  "kernelspec": {
   "display_name": "Python 3",
   "language": "python",
   "name": "python3"
  },
  "language_info": {
   "codemirror_mode": {
    "name": "ipython",
    "version": 3
   },
   "file_extension": ".py",
   "mimetype": "text/x-python",
   "name": "python",
   "nbconvert_exporter": "python",
   "pygments_lexer": "ipython3",
   "version": "3.8.5"
  }
 },
 "nbformat": 4,
 "nbformat_minor": 1
}
